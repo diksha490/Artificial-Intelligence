{
 "cells": [
  {
   "cell_type": "code",
   "execution_count": 1,
   "metadata": {},
   "outputs": [
    {
     "name": "stderr",
     "output_type": "stream",
     "text": [
      "[nltk_data] Error loading stopwords: <urlopen error [Errno 11001]\n",
      "[nltk_data]     getaddrinfo failed>\n",
      "[nltk_data] Error loading averaged_perceptron_tagger: <urlopen error\n",
      "[nltk_data]     [Errno 11001] getaddrinfo failed>\n",
      "C:\\Users\\Dell\\Anaconda3\\lib\\site-packages\\chatterbot\\corpus.py:38: YAMLLoadWarning: calling yaml.load() without Loader=... is deprecated, as the default Loader is unsafe. Please read https://msg.pyyaml.org/load for full details.\n",
      "  return yaml.load(data_file)\n"
     ]
    },
    {
     "name": "stdout",
     "output_type": "stream",
     "text": [
      "Training ai.yml: [####################] 100%\n",
      "Training botprofile.yml: [####################] 100%\n",
      "Training computers.yml: [####################] 100%\n",
      "Training conversations.yml: [####################] 100%\n",
      "Training emotion.yml: [####################] 100%\n",
      "Training food.yml: [####################] 100%\n",
      "Training gossip.yml: [####################] 100%\n",
      "Training greetings.yml: [####################] 100%\n",
      "Training health.yml: [####################] 100%\n",
      "Training history.yml: [####################] 100%\n",
      "Training humor.yml: [####################] 100%\n",
      "Training literature.yml: [####################] 100%\n",
      "Training money.yml: [####################] 100%\n",
      "Training movies.yml: [####################] 100%\n",
      "Training politics.yml: [####################] 100%\n",
      "Training psychology.yml: [####################] 100%\n",
      "Training science.yml: [####################] 100%\n",
      "Training sports.yml: [####################] 100%\n",
      "Training trivia.yml: [####################] 100%\n"
     ]
    },
    {
     "data": {
      "text/plain": [
       "<Statement text:you are a charlatan>"
      ]
     },
     "execution_count": 1,
     "metadata": {},
     "output_type": "execute_result"
    }
   ],
   "source": [
    "from chatterbot import ChatBot\n",
    "from chatterbot.trainers import ListTrainer\n",
    "from chatterbot.trainers import ChatterBotCorpusTrainer\n",
    "\n",
    "bot = ChatBot('Candice')\n",
    "trainer = ChatterBotCorpusTrainer(bot)\n",
    "trainer.train(\"chatterbot.corpus.english\")\n",
    "#bot.get_response(\"Hello, how are you today?\")"
   ]
  },
  {
   "cell_type": "code",
   "execution_count": 2,
   "metadata": {},
   "outputs": [],
   "source": [
    "import datetime\n",
    "now = datetime.datetime.now()\n",
    "hour = now.hour\n",
    "\n",
    "if hour < 12:\n",
    "    greeting = \"Good morning\"\n",
    "elif hour < 18:\n",
    "    greeting = \"Good afternoon\"\n",
    "else:\n",
    "    greeting = \"Good night\""
   ]
  },
  {
   "cell_type": "code",
   "execution_count": 4,
   "metadata": {},
   "outputs": [
    {
     "name": "stdout",
     "output_type": "stream",
     "text": [
      "Please Enter Your Name: Diksha\n",
      "Candice: Good afternoon Diksha\n",
      "\tHope we will have a good time together :) \n",
      "\t **To start a conversation with me just type \"Heyy\" \n",
      "\t **To exit just type \"bye\" \n",
      "\n",
      "\n",
      "maximun coversation can be of 5 minutes...sorry\n",
      "\n",
      "\n",
      "\t\t\tYou:Heyy\n",
      "Candice:hello\n",
      "\t\t\tYou:who are you ?\n",
      "Candice: I am just an artificial intelligence.\n",
      "Candice is waiting for conversation\n",
      "\t\t\tYou:what is ai ?\n",
      "Candice: I can see that.\n",
      "Candice is waiting for conversation\n",
      "\t\t\tYou:what are you doing ??\n",
      "times up!!\n"
     ]
    }
   ],
   "source": [
    "from threading import Timer\n",
    "import time\n",
    "\n",
    "name=input(\"Please Enter Your Name: \")\n",
    "print('Candice: ' + str(greeting) + \" \" + str(name))\n",
    "print('\\tHope we will have a good time together :) \\n\\t **To start a conversation with me just type \"Heyy\" \\n\\t **To exit just type \"bye\" ')\n",
    "print(\"\\n\")\n",
    "print(\"maximun coversation can be of 5 minutes...sorry\")\n",
    "print(\"\\n\")\n",
    "start=time.time()                       #time limit for whole conversation\n",
    "PERIOD_OF_TIME=60                        # for 5 minutes we have to put 300 instead of 60\n",
    "\n",
    "timeout = 10                          #time limit for reply\n",
    "while True:\n",
    "    t = Timer(timeout, print, ['Candice is waiting for conversation'])\n",
    "    t.start()\n",
    "    message=input('\\t\\t\\tYou:')\n",
    "    t.cancel()\n",
    "    if time.time()>start+PERIOD_OF_TIME:\n",
    "        print(\"times up!!\")\n",
    "        break\n",
    "    if message.strip()=='Heyy':\n",
    "        print('Candice:hello')\n",
    "    elif message.strip()=='Bye':\n",
    "        print('Candice: Bye')\n",
    "        break    \n",
    "    else:\n",
    "        reply=bot.get_response(message)\n",
    "        print('Candice:',reply)\n",
    "        \n",
    "\n"
   ]
  },
  {
   "cell_type": "code",
   "execution_count": null,
   "metadata": {},
   "outputs": [],
   "source": []
  }
 ],
 "metadata": {
  "kernelspec": {
   "display_name": "Python 3",
   "language": "python",
   "name": "python3"
  },
  "language_info": {
   "codemirror_mode": {
    "name": "ipython",
    "version": 3
   },
   "file_extension": ".py",
   "mimetype": "text/x-python",
   "name": "python",
   "nbconvert_exporter": "python",
   "pygments_lexer": "ipython3",
   "version": "3.7.3"
  }
 },
 "nbformat": 4,
 "nbformat_minor": 2
}
